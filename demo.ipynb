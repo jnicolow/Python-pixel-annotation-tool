{
 "cells": [
  {
   "cell_type": "code",
   "execution_count": 1,
   "metadata": {},
   "outputs": [
    {
     "name": "stdout",
     "output_type": "stream",
     "text": [
      "1210221553a_HDR.jpg\n",
      "ground\n",
      "[1, 0.65, 0]\n",
      "(792, 594)\n",
      "(792, 594, 3)\n"
     ]
    },
    {
     "name": "stderr",
     "output_type": "stream",
     "text": [
      "c:\\Users\\jcnic\\OneDrive\\Documents\\college\\research\\tools\\Python-pixel-classification-tool\\dataannotationtool\\DataAnnotationTool.py:352: UserWarning: This figure includes Axes that are not compatible with tight_layout, so results might be incorrect.\n",
      "  plt.waitforbuttonpress()\n"
     ]
    },
    {
     "name": "stdout",
     "output_type": "stream",
     "text": [
      "lasso tool\n",
      "sky\n",
      "[1, 0, 1]\n",
      "(792, 594)\n",
      "(792, 594, 3)\n",
      "(792, 594)\n",
      "(792, 594)\n",
      "lasso tool\n",
      "historic\n",
      "[0.1, 0.1, 0.7]\n",
      "(792, 594)\n",
      "(792, 594, 3)\n",
      "new\n",
      "[0.8, 0.8, 0.1]\n",
      "(792, 594)\n",
      "lasso tool\n"
     ]
    }
   ],
   "source": [
    "import os\n",
    "from dataannotationtool import DataAnnotationTool\n",
    "import importlib\n",
    "importlib.reload(DataAnnotationTool)\n",
    "traningDataDir = os.path.join(os.getcwd(), 'classifier', 'training_data', 'raw')\n",
    "imgAnnotations = DataAnnotationTool.data_annotation_tool(traningDataDir)"
   ]
  },
  {
   "cell_type": "code",
   "execution_count": null,
   "metadata": {},
   "outputs": [],
   "source": [
    "%matplotlib inline\n",
    "import matplotlib\n",
    "import matplotlib.pyplot as plt\n",
    "import numpy as np\n",
    "import matplotlib.image as mpimg\n",
    "fig,ax = plt.subplots(1,1,figsize=[17,10], tight_layout=True,sharex=True,\n",
    "                          sharey=True)\n",
    "\n",
    "\n",
    "im_RGB = mpimg.imread(os.path.join(traningDataDir, list(imgAnnotations.keys())[0]))\n",
    "ax.axis('off')  \n",
    "ax.imshow(im_RGB)\n",
    "ax.imshow(imgAnnotations[list(imgAnnotations.keys())[0]]['sand'], alpha=0.5, cmap='binary')\n",
    "imgAnnotations"
   ]
  }
 ],
 "metadata": {
  "kernelspec": {
   "display_name": "cstsi_one",
   "language": "python",
   "name": "python3"
  },
  "language_info": {
   "codemirror_mode": {
    "name": "ipython",
    "version": 3
   },
   "file_extension": ".py",
   "mimetype": "text/x-python",
   "name": "python",
   "nbconvert_exporter": "python",
   "pygments_lexer": "ipython3",
   "version": "3.7.12"
  },
  "orig_nbformat": 4
 },
 "nbformat": 4,
 "nbformat_minor": 2
}
